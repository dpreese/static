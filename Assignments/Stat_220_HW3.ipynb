{
  "cells": [
    {
      "cell_type": "markdown",
      "id": "cde00f3c",
      "metadata": {
        "id": "cde00f3c"
      },
      "source": [
        "[![Open in Colab](https://colab.research.google.com/assets/colab-badge.svg)](https://colab.research.google.com/github/drbob-richardson/stat220/blob/main/Assignments/Stat_220_HW3.ipynb)"
      ]
    },
    {
      "cell_type": "markdown",
      "id": "4ad50bf3",
      "metadata": {
        "id": "4ad50bf3"
      },
      "source": [
        "# Homework 3\n",
        "Stat 220"
      ]
    },
    {
      "cell_type": "code",
      "execution_count": 1,
      "id": "5327b315",
      "metadata": {
        "id": "5327b315"
      },
      "outputs": [],
      "source": [
        "\n",
        "import numpy as np\n",
        "import matplotlib.pyplot as plt\n",
        "from scipy.stats import norm, uniform, expon"
      ]
    },
    {
      "cell_type": "markdown",
      "id": "eb023830",
      "metadata": {
        "id": "eb023830"
      },
      "source": [
        "## Problem 1\n",
        "Let X be a normal random variable with mean 8 and standard deviation 4. Find the following probabilities:"
      ]
    },
    {
      "cell_type": "markdown",
      "id": "6e961dfd",
      "metadata": {
        "id": "6e961dfd"
      },
      "source": [
        "A. $Pr( X > 10)$"
      ]
    },
    {
      "cell_type": "code",
      "execution_count": 3,
      "id": "4c515347",
      "metadata": {
        "id": "4c515347",
        "outputId": "0da1dc21-e050-4e45-998e-31ffa7807d42",
        "colab": {
          "base_uri": "https://localhost:8080/"
        }
      },
      "outputs": [
        {
          "output_type": "stream",
          "name": "stdout",
          "text": [
            "Pr(X > 10) = 0.3085375387259869\n"
          ]
        }
      ],
      "source": [
        "mu = 8\n",
        "sigma = 4\n",
        "prob = 1 - norm.cdf(10, loc=mu, scale=sigma)\n",
        "print(f\"Pr(X > 10) = {prob}\")"
      ]
    },
    {
      "cell_type": "markdown",
      "id": "30b560b4",
      "metadata": {
        "id": "30b560b4"
      },
      "source": [
        "B. Pr(X > 10 and X < 12)"
      ]
    },
    {
      "cell_type": "code",
      "execution_count": 5,
      "id": "6b1eef09",
      "metadata": {
        "id": "6b1eef09",
        "outputId": "0194e805-84b3-4cb2-90a7-bf7277e86f69",
        "colab": {
          "base_uri": "https://localhost:8080/"
        }
      },
      "outputs": [
        {
          "output_type": "stream",
          "name": "stdout",
          "text": [
            "Pr(X > 10 and X < 12) = 0.1498822847945298\n"
          ]
        }
      ],
      "source": [
        "prob = norm.cdf(12, loc=mu, scale=sigma) - norm.cdf(10, loc=mu, scale=sigma)\n",
        "print(f\"Pr(X > 10 and X < 12) = {prob}\")"
      ]
    },
    {
      "cell_type": "markdown",
      "id": "95c50255",
      "metadata": {
        "id": "95c50255"
      },
      "source": [
        "C. Pr(X > 10|X < 12)"
      ]
    },
    {
      "cell_type": "code",
      "execution_count": 6,
      "id": "8a616905",
      "metadata": {
        "id": "8a616905",
        "outputId": "aebb4ba8-1349-4789-af97-f3dbddccba4f",
        "colab": {
          "base_uri": "https://localhost:8080/"
        }
      },
      "outputs": [
        {
          "output_type": "stream",
          "name": "stdout",
          "text": [
            "Pr(X > 10|X < 12) = 0.17814609943771986\n"
          ]
        }
      ],
      "source": [
        "num = norm.cdf(12, loc=mu, scale=sigma) - norm.cdf(10, loc=mu, scale=sigma)\n",
        "den = norm.cdf(12, loc=mu, scale=sigma)\n",
        "prob = num / den\n",
        "print(f\"Pr(X > 10|X < 12) = {prob}\")"
      ]
    },
    {
      "cell_type": "markdown",
      "id": "798178d6",
      "metadata": {
        "id": "798178d6"
      },
      "source": [
        "D. Pr(X > 10|X > 8)"
      ]
    },
    {
      "cell_type": "code",
      "execution_count": 7,
      "id": "d4d3f6ec",
      "metadata": {
        "id": "d4d3f6ec",
        "outputId": "d235478c-127b-4a1d-f3ca-674ba256d0c5",
        "colab": {
          "base_uri": "https://localhost:8080/"
        }
      },
      "outputs": [
        {
          "output_type": "stream",
          "name": "stdout",
          "text": [
            "Pr(X > 10|X > 8) = 0.6170750774519738\n"
          ]
        }
      ],
      "source": [
        "p_gt_10 = 1 - norm.cdf(10, loc=mu, scale=sigma)\n",
        "p_gt_8 = 1 - norm.cdf(8, loc=mu, scale=sigma)\n",
        "prob = p_gt_10 / p_gt_8\n",
        "print(f\"Pr(X > 10|X > 8) = {prob}\")"
      ]
    },
    {
      "cell_type": "markdown",
      "id": "b74e1b27",
      "metadata": {
        "id": "b74e1b27"
      },
      "source": [
        "E. Pr(X > 10 and X > 8)"
      ]
    },
    {
      "cell_type": "code",
      "execution_count": 8,
      "id": "2fa082a2",
      "metadata": {
        "id": "2fa082a2",
        "outputId": "4c7b7c29-81ec-48d0-c725-21e4ac76bf47",
        "colab": {
          "base_uri": "https://localhost:8080/"
        }
      },
      "outputs": [
        {
          "output_type": "stream",
          "name": "stdout",
          "text": [
            "Pr(X > 10 and X > 8) = 0.3085375387259869\n"
          ]
        }
      ],
      "source": [
        "prob = 1 - norm.cdf(10, loc=mu, scale=sigma)\n",
        "print(f\"Pr(X > 10 and X > 8) = {prob}\")"
      ]
    },
    {
      "cell_type": "markdown",
      "id": "bfedf435",
      "metadata": {
        "id": "bfedf435"
      },
      "source": [
        "## Problem\n",
        "Airline departure delays (in minutes) are modeled by an exponential distribution with **mean 15 minutes**."
      ]
    },
    {
      "cell_type": "markdown",
      "id": "fe2bb9da",
      "metadata": {
        "id": "fe2bb9da"
      },
      "source": [
        "A. What is the rate parameter, $\\lambda$?"
      ]
    },
    {
      "cell_type": "markdown",
      "id": "eb80f673",
      "metadata": {
        "id": "eb80f673"
      },
      "source": [
        "the mean delay is 15 minutes and so the exponential distribution = 1 / λ socould rework that to be λ = 1 / 15 which comes out to 0.06 repeating (so 0.0666666 and so on)"
      ]
    },
    {
      "cell_type": "markdown",
      "id": "f25087ad",
      "metadata": {
        "id": "f25087ad"
      },
      "source": [
        "B. What is the probability a flight is delayed less than 10 minutes?"
      ]
    },
    {
      "cell_type": "code",
      "execution_count": 9,
      "id": "8d52f062",
      "metadata": {
        "id": "8d52f062",
        "outputId": "ab465ee9-ca05-4744-f856-30fa32d82fe4",
        "colab": {
          "base_uri": "https://localhost:8080/"
        }
      },
      "outputs": [
        {
          "output_type": "stream",
          "name": "stdout",
          "text": [
            "The probability a flight is delayed less than 10 minutes is 0.486582880967408\n"
          ]
        }
      ],
      "source": [
        "mean_delay = 15\n",
        "lam = 1 / mean_delay\n",
        "prob = 1 - np.exp(-lam * 10)\n",
        "print(f\"The probability a flight is delayed less than 10 minutes is {prob}\")"
      ]
    },
    {
      "cell_type": "markdown",
      "id": "0bf7f36b",
      "metadata": {
        "id": "0bf7f36b"
      },
      "source": [
        "C. What is the probability a flight is delayed more than 30 minutes?"
      ]
    },
    {
      "cell_type": "code",
      "execution_count": 11,
      "id": "411794d9",
      "metadata": {
        "id": "411794d9",
        "outputId": "7b407d0c-9f87-425f-dca4-a834dab17817",
        "colab": {
          "base_uri": "https://localhost:8080/"
        }
      },
      "outputs": [
        {
          "output_type": "stream",
          "name": "stdout",
          "text": [
            "The probability a flight is delayed more than 30 minutes is 0.1353352832366127\n"
          ]
        }
      ],
      "source": [
        "prob = np.exp(-lam * 30)\n",
        "print(f\"The probability a flight is delayed more than 30 minutes is {prob}\")"
      ]
    },
    {
      "cell_type": "markdown",
      "id": "f727c8f6",
      "metadata": {
        "id": "f727c8f6"
      },
      "source": [
        "D. Find the 75th percentile delay time."
      ]
    },
    {
      "cell_type": "code",
      "execution_count": 12,
      "id": "f052eb8a",
      "metadata": {
        "id": "f052eb8a",
        "outputId": "3d15dd4a-faeb-4331-8e98-62ba1d0a66e7",
        "colab": {
          "base_uri": "https://localhost:8080/"
        }
      },
      "outputs": [
        {
          "output_type": "stream",
          "name": "stdout",
          "text": [
            "The 75th percentile delay time is 20.79441541679836 minutes\n"
          ]
        }
      ],
      "source": [
        "x_75 = -np.log(1 - 0.75) / lam\n",
        "print(f\"The 75th percentile delay time is {x_75} minutes\")"
      ]
    },
    {
      "cell_type": "markdown",
      "id": "16be50b5",
      "metadata": {
        "id": "16be50b5"
      },
      "source": [
        "## Problem 3\n",
        "A computer simulation generates values uniformly between **100** and **200**.\n"
      ]
    },
    {
      "cell_type": "markdown",
      "id": "70046ef8",
      "metadata": {
        "id": "70046ef8"
      },
      "source": [
        "A. Compute the mean and variance."
      ]
    },
    {
      "cell_type": "code",
      "execution_count": 13,
      "id": "c48d70a7",
      "metadata": {
        "id": "c48d70a7",
        "outputId": "1976ac03-2bd0-411c-cf0a-8204fc542b1f",
        "colab": {
          "base_uri": "https://localhost:8080/"
        }
      },
      "outputs": [
        {
          "output_type": "stream",
          "name": "stdout",
          "text": [
            "Mean = 150.0\n",
            "Variance = 833.3333333333334\n"
          ]
        }
      ],
      "source": [
        "a, b = 100, 200\n",
        "mean = (a + b) / 2\n",
        "variance = (b - a)**2 / 12\n",
        "print(f\"Mean = {mean}\")\n",
        "print(f\"Variance = {variance}\")"
      ]
    },
    {
      "cell_type": "markdown",
      "id": "05a984cf",
      "metadata": {
        "id": "05a984cf"
      },
      "source": [
        "B. What is the probability the value falls between 120 and 150?"
      ]
    },
    {
      "cell_type": "code",
      "execution_count": 14,
      "id": "a4aebb2c",
      "metadata": {
        "id": "a4aebb2c",
        "outputId": "7c2b10ca-43c0-4ad2-95f6-90ef9997d1a7",
        "colab": {
          "base_uri": "https://localhost:8080/"
        }
      },
      "outputs": [
        {
          "output_type": "stream",
          "name": "stdout",
          "text": [
            "Pr(120 <= X <= 150) = 0.3\n"
          ]
        }
      ],
      "source": [
        "lower, upper = 120, 150\n",
        "prob = (upper - lower) / (b - a)\n",
        "print(f\"Pr(120 <= X <= 150) = {prob}\")"
      ]
    },
    {
      "cell_type": "markdown",
      "id": "45741b2e",
      "metadata": {
        "id": "45741b2e"
      },
      "source": [
        "C. Find the 10th and 90th percentiles."
      ]
    },
    {
      "cell_type": "code",
      "execution_count": 15,
      "id": "9f962d7f",
      "metadata": {
        "id": "9f962d7f",
        "outputId": "437a351b-ee90-4883-9b9a-00e71082710a",
        "colab": {
          "base_uri": "https://localhost:8080/"
        }
      },
      "outputs": [
        {
          "output_type": "stream",
          "name": "stdout",
          "text": [
            "10th percentile = 110.0\n",
            "90th percentile = 190.0\n"
          ]
        }
      ],
      "source": [
        "p10 = a + 0.10 * (b - a)\n",
        "p90 = a + 0.90 * (b - a)\n",
        "print(f\"10th percentile = {p10}\")\n",
        "print(f\"90th percentile = {p90}\")"
      ]
    },
    {
      "cell_type": "markdown",
      "id": "b0a10da6",
      "metadata": {
        "id": "b0a10da6"
      },
      "source": [
        "## Problem 4:\n",
        "Assume weights of a certain dog breed are $X\\sim \\mathcal{N}(60, 8)$ lbs.\n"
      ]
    },
    {
      "cell_type": "markdown",
      "id": "6c6e3c52",
      "metadata": {
        "id": "6c6e3c52"
      },
      "source": [
        "A. Using the **68–95–99.7** rule, approximate:\n",
        "   - $P(52 \\le X \\le 68)$,\n",
        "   - $P(44 \\le X \\le 76)$,\n",
        "   - $P(36 \\le X \\le 84)$."
      ]
    },
    {
      "cell_type": "code",
      "execution_count": 16,
      "id": "6237fd8e",
      "metadata": {
        "id": "6237fd8e",
        "outputId": "88981546-c5f9-4873-e9f4-7ff8aeea5268",
        "colab": {
          "base_uri": "https://localhost:8080/"
        }
      },
      "outputs": [
        {
          "output_type": "stream",
          "name": "stdout",
          "text": [
            "P(52 ≤ X ≤ 68) ≈ 0.68\n",
            "P(44 ≤ X ≤ 76) ≈ 0.95\n",
            "P(36 ≤ X ≤ 84) ≈ 0.997\n"
          ]
        }
      ],
      "source": [
        "approx_1sigma = 0.68\n",
        "approx_2sigma = 0.95\n",
        "approx_3sigma = 0.997\n",
        "print(f\"P(52 ≤ X ≤ 68) ≈ {approx_1sigma}\")\n",
        "print(f\"P(44 ≤ X ≤ 76) ≈ {approx_2sigma}\")\n",
        "print(f\"P(36 ≤ X ≤ 84) ≈ {approx_3sigma}\")"
      ]
    },
    {
      "cell_type": "markdown",
      "id": "2ba40fcf",
      "metadata": {
        "id": "2ba40fcf"
      },
      "source": [
        "B. Compute the exact probabilities with the Normal CDF to compare.\n"
      ]
    },
    {
      "cell_type": "code",
      "execution_count": 17,
      "id": "d36f236c",
      "metadata": {
        "id": "d36f236c",
        "outputId": "b0593f16-69b7-418a-9c7c-a1fae5164bae",
        "colab": {
          "base_uri": "https://localhost:8080/"
        }
      },
      "outputs": [
        {
          "output_type": "stream",
          "name": "stdout",
          "text": [
            "Exact P(52 ≤ X ≤ 68) = 0.6826894921370859\n",
            "Exact P(44 ≤ X ≤ 76) = 0.9544997361036416\n",
            "Exact P(36 ≤ X ≤ 84) = 0.9973002039367398\n"
          ]
        }
      ],
      "source": [
        "mu, sigma = 60, 8\n",
        "p1 = norm.cdf(68, loc=mu, scale=sigma) - norm.cdf(52, loc=mu, scale=sigma)\n",
        "p2 = norm.cdf(76, loc=mu, scale=sigma) - norm.cdf(44, loc=mu, scale=sigma)\n",
        "p3 = norm.cdf(84, loc=mu, scale=sigma) - norm.cdf(36, loc=mu, scale=sigma)\n",
        "print(f\"Exact P(52 ≤ X ≤ 68) = {p1}\")\n",
        "print(f\"Exact P(44 ≤ X ≤ 76) = {p2}\")\n",
        "print(f\"Exact P(36 ≤ X ≤ 84) = {p3}\")"
      ]
    },
    {
      "cell_type": "markdown",
      "id": "52ee8e2f",
      "metadata": {
        "id": "52ee8e2f"
      },
      "source": [
        "C. Using the Normal table to find $P(X \\le 70)$."
      ]
    },
    {
      "cell_type": "markdown",
      "id": "0442a71e",
      "metadata": {
        "id": "0442a71e"
      },
      "source": [
        "0.8944"
      ]
    },
    {
      "cell_type": "markdown",
      "id": "d46ae1c9",
      "metadata": {
        "id": "d46ae1c9"
      },
      "source": [
        "D. Use scipy functions to find $P(X \\le 70)$. How does it compare?"
      ]
    },
    {
      "cell_type": "code",
      "execution_count": 18,
      "id": "b6e6ed9c",
      "metadata": {
        "id": "b6e6ed9c",
        "outputId": "fdf9191a-66d0-4f60-cd17-ea0abc4784b4",
        "colab": {
          "base_uri": "https://localhost:8080/"
        }
      },
      "outputs": [
        {
          "output_type": "stream",
          "name": "stdout",
          "text": [
            "P(X <= 70) using scipy = 0.8944\n"
          ]
        }
      ],
      "source": [
        "mu, sigma = 60, 8\n",
        "prob_scipy = norm.cdf(70, loc=mu, scale=sigma)\n",
        "print(f\"P(X <= 70) using scipy = {prob_scipy:.4f}\")"
      ]
    },
    {
      "cell_type": "markdown",
      "id": "b87d02cf",
      "metadata": {
        "id": "b87d02cf"
      },
      "source": [
        "E. Find the weight that marks the **top 5\\%** of dogs (the 95th percentile).\n"
      ]
    },
    {
      "cell_type": "code",
      "execution_count": 19,
      "id": "3769b40f",
      "metadata": {
        "id": "3769b40f",
        "outputId": "903364ec-e7e0-451d-c833-d5a7dafdf6fd",
        "colab": {
          "base_uri": "https://localhost:8080/"
        }
      },
      "outputs": [
        {
          "output_type": "stream",
          "name": "stdout",
          "text": [
            "95th percentile (top 5% cutoff) = 73.16 lbs\n"
          ]
        }
      ],
      "source": [
        "mu, sigma = 60, 8\n",
        "x95 = norm.ppf(0.95, loc=mu, scale=sigma)\n",
        "print(f\"95th percentile (top 5% cutoff) = {x95:.2f} lbs\")"
      ]
    },
    {
      "cell_type": "code",
      "execution_count": 20,
      "id": "714e123c",
      "metadata": {
        "id": "714e123c",
        "outputId": "35b9cc1b-c679-40f0-9ca9-919eab2bfc5b",
        "colab": {
          "base_uri": "https://localhost:8080/",
          "height": 487
        }
      },
      "outputs": [
        {
          "output_type": "display_data",
          "data": {
            "text/plain": [
              "<Figure size 800x500 with 1 Axes>"
            ],
            "image/png": "[encoded data removed]"
          },
          "metadata": {}
        }
      ],
      "source": [
        "\n",
        "# Problem 4 starter\n",
        "\n",
        "mu, sigma = 60.0, 8.0\n",
        "\n",
        "# TODO: Empirical rule approximations for the three intervals\n",
        "# See previous cells for all of these\n",
        "# TODO: Exact probabilities with norm.cdf\n",
        "\n",
        "# TODO: P(X <= 70)\n",
        "\n",
        "# TODO: 95th percentile\n",
        "\n",
        "# TODO: Plot PDF and shade the region [52, 68]\n",
        "x = np.linspace(mu - 4*sigma, mu + 4*sigma, 800)\n",
        "pdf = norm.pdf(x, mu, sigma)\n",
        "\n",
        "fig, ax = plt.subplots(figsize=(8,5))\n",
        "\n",
        "# Plot the PDF\n",
        "ax.plot(x, pdf, 'b', lw=2, label=\"Normal PDF\")\n",
        "\n",
        "# Shade the interval [52,68]\n",
        "shade_x = np.linspace(52, 68, 300)\n",
        "shade_y = norm.pdf(shade_x, mu, sigma)\n",
        "ax.fill_between(shade_x, shade_y, color='skyblue', alpha=0.5, label=\"52 ≤ X ≤ 68\")\n",
        "\n",
        "# Add labels and legend\n",
        "ax.set_title(\"Normal(60,8) PDF with Shaded Region [52,68]\")\n",
        "ax.set_xlabel(\"Weight (lbs)\")\n",
        "ax.set_ylabel(\"Density\")\n",
        "ax.legend()\n",
        "\n",
        "plt.show()"
      ]
    },
    {
      "cell_type": "markdown",
      "id": "3d5adcae",
      "metadata": {
        "id": "3d5adcae"
      },
      "source": [
        "## Problem 5:\n",
        "Consider the following three random variables:\n",
        "\n",
        "- **A:** $X_A \\sim \\text{Unif}(120, 180)$\n",
        "- **B:** $X_B \\sim \\mathcal{N}(150, 20)$\n",
        "- **C:** $X_C \\sim \\text{Exp}(\\lambda=1/30)$ (units in minutes)\n"
      ]
    },
    {
      "cell_type": "markdown",
      "id": "674233e6",
      "metadata": {
        "id": "674233e6"
      },
      "source": [
        "A. Compute (or write down) the **mean** of each distribution and order the means from smallest to largest."
      ]
    },
    {
      "cell_type": "code",
      "execution_count": 21,
      "id": "8e248d42",
      "metadata": {
        "id": "8e248d42",
        "outputId": "a3d22a4c-5dd8-4fbe-aa52-0b8a56d0952c",
        "colab": {
          "base_uri": "https://localhost:8080/"
        }
      },
      "outputs": [
        {
          "output_type": "stream",
          "name": "stdout",
          "text": [
            "Means: {'A (Uniform)': 150.0, 'B (Normal)': 150, 'C (Exponential)': 30.0}\n",
            "Ordered (smallest → largest):\n",
            "C (Exponential): 30.0\n",
            "A (Uniform): 150.0\n",
            "B (Normal): 150\n"
          ]
        }
      ],
      "source": [
        "# A: Uniform(120,180)\n",
        "mean_A = (120 + 180) / 2\n",
        "# B: Normal(150,20)\n",
        "mean_B = 150\n",
        "# C: Exponential(λ=1/30)\n",
        "lam = 1/30\n",
        "mean_C = 1 / lam\n",
        "means = {\"A (Uniform)\": mean_A, \"B (Normal)\": mean_B, \"C (Exponential)\": mean_C}\n",
        "print(\"Means:\", means)\n",
        "ordered = sorted(means.items(), key=lambda kv: kv[1])\n",
        "print(\"Ordered (smallest → largest):\")\n",
        "for name, val in ordered:\n",
        "    print(f\"{name}: {val}\")"
      ]
    },
    {
      "cell_type": "markdown",
      "id": "48168ee7",
      "metadata": {
        "id": "48168ee7"
      },
      "source": []
    },
    {
      "cell_type": "markdown",
      "id": "a7df3d77",
      "metadata": {
        "id": "a7df3d77"
      },
      "source": [
        "B. Compute the **variance** of each distribution and order the variances from smallest to largest.\n"
      ]
    },
    {
      "cell_type": "code",
      "execution_count": 22,
      "id": "9ba3146b",
      "metadata": {
        "id": "9ba3146b",
        "outputId": "b3dd96e0-362d-411d-fac9-e281ccff7355",
        "colab": {
          "base_uri": "https://localhost:8080/"
        }
      },
      "outputs": [
        {
          "output_type": "stream",
          "name": "stdout",
          "text": [
            "Variances: {'A (Uniform)': 300.0, 'B (Normal)': 400, 'C (Exponential)': 900.0}\n",
            "Ordered (smallest → largest):\n",
            "A (Uniform): 300.0\n",
            "B (Normal): 400\n",
            "C (Exponential): 900.0\n"
          ]
        }
      ],
      "source": [
        "# A: Uniform(120,180)\n",
        "var_A = (180 - 120)**2 / 12\n",
        "# B: Normal(150,20)\n",
        "var_B = 20**2\n",
        "# C: Exponential(λ=1/30)\n",
        "lam = 1/30\n",
        "var_C = 1 / lam**2\n",
        "variances = {\"A (Uniform)\": var_A, \"B (Normal)\": var_B, \"C (Exponential)\": var_C}\n",
        "print(\"Variances:\", variances)\n",
        "ordered = sorted(variances.items(), key=lambda kv: kv[1])\n",
        "print(\"Ordered (smallest → largest):\")\n",
        "for name, val in ordered:\n",
        "    print(f\"{name}: {val}\")"
      ]
    },
    {
      "cell_type": "markdown",
      "id": "57d26dc4",
      "metadata": {
        "id": "57d26dc4"
      },
      "source": []
    }
  ],
  "metadata": {
    "language_info": {
      "name": "python"
    },
    "colab": {
      "provenance": []
    },
    "kernelspec": {
      "name": "python3",
      "display_name": "Python 3"
    }
  },
  "nbformat": 4,
  "nbformat_minor": 5
}