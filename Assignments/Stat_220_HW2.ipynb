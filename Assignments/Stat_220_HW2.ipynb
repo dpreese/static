{
  "cells": [
    {
      "cell_type": "markdown",
      "metadata": {
        "id": "BQcB_seT1KOk"
      },
      "source": [
        "[![Open in Colab](https://colab.research.google.com/assets/colab-badge.svg)](https://colab.research.google.com/github/drbob-richardson/stat220/blob/main/Assignments/Stat_220_HW2.ipynb)"
      ]
    },
    {
      "cell_type": "markdown",
      "metadata": {
        "id": "p0Jeg70FvG6D"
      },
      "source": [
        "**Problem 1** A baseball player has a batting average of .240 against right handed pitchers and .375 against left handed pitchers. A batting average can be thought of as the probability they will get a hit."
      ]
    },
    {
      "cell_type": "markdown",
      "metadata": {
        "id": "mjW2p9LywoQ_"
      },
      "source": [
        "Part a. What is the probability the baseball player gets 3 out of 4 hits against a right handed pitcher?"
      ]
    },
    {
      "cell_type": "code",
      "execution_count": 3,
      "metadata": {
        "id": "8-JI8OPxwu4r",
        "colab": {
          "base_uri": "https://localhost:8080/"
        },
        "outputId": "2aa9bb5e-b4a6-4b54-8c1b-0b4b7a193145"
      },
      "outputs": [
        {
          "output_type": "stream",
          "name": "stdout",
          "text": [
            "0.04202495999999999\n"
          ]
        }
      ],
      "source": [
        "import math\n",
        "\n",
        "def problem(k, n, p):\n",
        "  return math.comb(n, k) * (p**k) * ((1-p)**(n-k))\n",
        "\n",
        "p_right = 0.240\n",
        "n, k = 4, 3\n",
        "p_1a = problem(k, n, p_right)\n",
        "print(p_1a)"
      ]
    },
    {
      "cell_type": "markdown",
      "metadata": {
        "id": "iuq4VdwYwvO9"
      },
      "source": [
        "Part b. What is the probability the baseball gets 3 out of 4 hits against a left handed pitcher."
      ]
    },
    {
      "cell_type": "code",
      "execution_count": 4,
      "metadata": {
        "id": "Us2ZnQSlw0x_",
        "colab": {
          "base_uri": "https://localhost:8080/"
        },
        "outputId": "fc8d67a8-d95f-4bf9-b88e-73d23ceb9a27"
      },
      "outputs": [
        {
          "output_type": "stream",
          "name": "stdout",
          "text": [
            "0.1318359375\n"
          ]
        }
      ],
      "source": [
        "p_left = 0.375\n",
        "n, k = 4, 3\n",
        "p_1b = problem(k, n, p_left)\n",
        "print(p_1b)"
      ]
    },
    {
      "cell_type": "markdown",
      "metadata": {
        "id": "QXJfKQHBxgR6"
      },
      "source": [
        "Part c. The baseball player gets 3 out of 4 hits against a randomly chosen pitcher. Based on these results, what would you assume about what hand the pitcher uses?"
      ]
    },
    {
      "cell_type": "markdown",
      "metadata": {
        "id": "VeEcIBCxxqPn"
      },
      "source": [
        "It is reasonable to assume the pitcher was left-handed as P(3/4 | LHP) > P(3/4 | RHP)"
      ]
    },
    {
      "cell_type": "markdown",
      "metadata": {
        "id": "SDGIExslxGCv"
      },
      "source": [
        "Part d. Assume that the pitcher is randomly chosen from the team where 80% of the pitchers are right handed. Use Bayes rule to determine the probability the pitcher is right handed given that the batter hits 3 out of 4 pitches."
      ]
    },
    {
      "cell_type": "code",
      "execution_count": null,
      "metadata": {
        "id": "n76xVOIaxsoX"
      },
      "outputs": [],
      "source": [
        "prior_R = 0.80\n",
        "prior_L = 0.20\n",
        "\n",
        "likelihood_R = p_1a\n",
        "likelihood_L = p_1b\n",
        "\n",
        "evidence = likelihood_R*prior_R + likelihood_L*prior_L\n",
        "\n",
        "posterior_R = (likelihood_R*prior_R)/evidence\n",
        "posterior_L = 1 - posterior_R\n",
        "\n",
        "print(posterior_R, posterior_L)"
      ]
    },
    {
      "cell_type": "markdown",
      "metadata": {
        "id": "u6z8NiewxxoP"
      },
      "source": [
        "**Problem 2**  \n",
        "In Arizona, the long-run probability of rain on any given day of the year is about 5%. A researcher observes that it rained three days in a row and calculates the probability of this event as follows:\n",
        "\n",
        "$$\n",
        "Pr(\\text{3 days of rain}) = Pr(\\text{rain on a day})^3 = 0.05^3 = 0.000125\n",
        "$$\n",
        "\n",
        "He concludes that this was an extremely rare event.  \n",
        "\n",
        "You are asked to critique his calculation.  \n",
        "\n",
        "**Question:** What incorrect assumption about the *relationship between consecutive days of rain* did the researcher make in this calculation, and why does that make his probability estimate misleading?  \n",
        "\n"
      ]
    },
    {
      "cell_type": "markdown",
      "metadata": {
        "id": "JldplVYsUYyA"
      },
      "source": [
        "The researcher assumed that rainfall on different days are independent events when rain on conesecutive days is not independent. Be4cause of this multiplying 0.05^3 underestimates the true probability and makes the event apopear much rarer than it actuall yis."
      ]
    },
    {
      "cell_type": "markdown",
      "metadata": {
        "id": "xOmMCaJQzUAd"
      },
      "source": [
        "**Problem 3** A stock trader is examining stocks. Let event A be the event that Stock A falls. Let event B be the event that Stock B falls. Assume the following.\n",
        "\n",
        "*   Pr(A) = 0.4\n",
        "*   Pr(B) = 0.25\n",
        "*   Pr(A and B) = 0.15\n"
      ]
    },
    {
      "cell_type": "markdown",
      "metadata": {
        "id": "cXuzb3Kn2mIh"
      },
      "source": [
        "Part a. What is the probability that either events A or B happen?"
      ]
    },
    {
      "cell_type": "code",
      "execution_count": 5,
      "metadata": {
        "id": "gdTGwVnR2qaZ",
        "colab": {
          "base_uri": "https://localhost:8080/"
        },
        "outputId": "6d5b1ce6-e2ce-42b9-ad49-a87ac1bc4dde"
      },
      "outputs": [
        {
          "output_type": "stream",
          "name": "stdout",
          "text": [
            "0.5\n"
          ]
        }
      ],
      "source": [
        "PrA = 0.4\n",
        "PrB = 0.25\n",
        "PrA_and_B = 0.15\n",
        "\n",
        "PrA_or_B = PrA + PrB - PrA_and_B\n",
        "print(PrA_or_B)\n"
      ]
    },
    {
      "cell_type": "markdown",
      "metadata": {
        "id": "mmS34xQ82qyK"
      },
      "source": [
        "Part b. From this, can you make statement as to whether or not events A and B are mutually exclusive?"
      ]
    },
    {
      "cell_type": "markdown",
      "metadata": {
        "id": "yU6Z0a3U1KOo"
      },
      "source": [
        "A and B are not mutually exclusive because they cna occur together as their intersection is nonzero"
      ]
    },
    {
      "cell_type": "markdown",
      "metadata": {
        "id": "t8n4WV6N1KOo"
      },
      "source": [
        "Part c. What can you say about if events A and B are independent?"
      ]
    },
    {
      "cell_type": "markdown",
      "metadata": {
        "id": "P9aoysHv1KOo"
      },
      "source": [
        "A and B are not independent becuase the observed intersection probability is greater than the product of their individual probabilities"
      ]
    },
    {
      "cell_type": "markdown",
      "metadata": {
        "id": "Uhv41ow1swdd"
      },
      "source": [
        "**Problem 4** Each time a person shops at a grocery store, the event of catching a cold or some other virus from another shopper is independent from visit to visit and has a constant probability over the year, equal to 0.01."
      ]
    },
    {
      "cell_type": "markdown",
      "metadata": {
        "id": "3cN1ISlms2X-"
      },
      "source": [
        "Part a. In 100 trips to this store over the course of a year, the probability of catching a virus while shopping there is 100(0.01) = 1.0. What is wrong with this reasoning?"
      ]
    },
    {
      "cell_type": "markdown",
      "metadata": {
        "id": "5P6uZCAss74u"
      },
      "source": [
        "The error is assuming probabilities add up linearly over multiple independent trials. Probabilities do not simply add — 100 × 0.01 = 1.0 suggests a 100% chance, which is incorrect logic. Each trip is an independent event so the correct way would be 1 - (1-0.01)^100"
      ]
    },
    {
      "cell_type": "markdown",
      "metadata": {
        "id": "xkfLkFiys8lO"
      },
      "source": [
        "Part b. Find the correct probability in (a)."
      ]
    },
    {
      "cell_type": "code",
      "execution_count": 6,
      "metadata": {
        "id": "lCdV9U4ZWECf",
        "colab": {
          "base_uri": "https://localhost:8080/"
        },
        "outputId": "22afc333-52eb-42a6-b001-e11f8873fa33"
      },
      "outputs": [
        {
          "output_type": "stream",
          "name": "stdout",
          "text": [
            "0.6339676587267709\n"
          ]
        }
      ],
      "source": [
        "p_infect = 0.01\n",
        "n_trips = 100\n",
        "\n",
        "p_at_least_one = 1 - (1 - p_infect)**n_trips\n",
        "print(p_at_least_one)"
      ]
    },
    {
      "cell_type": "markdown",
      "metadata": {
        "id": "1nUUpZ8qSW3_"
      },
      "source": [
        "Part c. Determine the expected number of days someone would go to a grocery store before they catch a cold or some other virus."
      ]
    },
    {
      "cell_type": "markdown",
      "source": [
        "if probability is 0.01 each time they go then the expected number of trips would be 100 since this is a geometric distribution problem."
      ],
      "metadata": {
        "id": "Pg4CZLki8gbT"
      }
    },
    {
      "cell_type": "markdown",
      "metadata": {
        "id": "4QE2cv4juKMj"
      },
      "source": [
        "**Problem 5** A quiz has twelve multiple-choice questions, with four possible answers for each. A student who is completely unprepared randomly guesses the answer for each question. Let Y denote the number of correct responses"
      ]
    },
    {
      "cell_type": "markdown",
      "metadata": {
        "id": "CsfyWs261KOo"
      },
      "source": [
        "Part a. What is the name of the distribution that can be used to determine the number of questionsd guessed correctly? What are the parameters of this distribution?"
      ]
    },
    {
      "cell_type": "markdown",
      "metadata": {
        "id": "cK2fOkyz1KOo"
      },
      "source": [
        "Binomial distribution. Parameters are n = 12 and p = 0.25"
      ]
    },
    {
      "cell_type": "markdown",
      "metadata": {
        "id": "tWDxpF7yuZcR"
      },
      "source": [
        "Part b. Find the probability that the students gets (i) all 12, (ii) none of the questions correct."
      ]
    },
    {
      "cell_type": "code",
      "execution_count": 9,
      "metadata": {
        "id": "BIiWMzxRtpFm",
        "colab": {
          "base_uri": "https://localhost:8080/"
        },
        "outputId": "3bf5b961-c084-49cf-ec3c-2a9d849c8252"
      },
      "outputs": [
        {
          "output_type": "stream",
          "name": "stdout",
          "text": [
            "P(all 12 correct) = 5.960464477539063e-08\n",
            "P(none correct) = 0.03167635202407837\n"
          ]
        }
      ],
      "source": [
        "n_q = 12\n",
        "p_correct = 0.25\n",
        "\n",
        "p_all_12 = problem(12, n_q, p_correct)\n",
        "p_none = problem(0, n_q, p_correct)\n",
        "\n",
        "print(\"P(all 12 correct) =\", p_all_12)\n",
        "print(\"P(none correct) =\", p_none)"
      ]
    },
    {
      "cell_type": "markdown",
      "metadata": {
        "id": "tQVguX5E1KOo"
      },
      "source": [
        "Part c. What is the expected value and variance of the number of questions guessed correctly?"
      ]
    },
    {
      "cell_type": "code",
      "execution_count": 11,
      "metadata": {
        "colab": {
          "base_uri": "https://localhost:8080/"
        },
        "id": "kpNqFcMe1KOo",
        "outputId": "e32ed8e0-7d05-4a99-d79d-cd028952f399"
      },
      "outputs": [
        {
          "output_type": "stream",
          "name": "stdout",
          "text": [
            "Expected value:  3.0\n",
            "Variance:  2.25\n"
          ]
        }
      ],
      "source": [
        "expected_value = n_q * p_correct\n",
        "variance = n_q * p_correct * (1 - p_correct)\n",
        "\n",
        "print(\"Expected value: \", expected_value)\n",
        "print(\"Variance: \", variance)"
      ]
    }
  ],
  "metadata": {
    "colab": {
      "provenance": []
    },
    "kernelspec": {
      "display_name": "Python 3",
      "name": "python3"
    },
    "language_info": {
      "name": "python"
    }
  },
  "nbformat": 4,
  "nbformat_minor": 0
}